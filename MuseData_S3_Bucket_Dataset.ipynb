{
  "nbformat": 4,
  "nbformat_minor": 0,
  "metadata": {
    "colab": {
      "name": "MuseData-S3-Bucket-Dataset.ipynb",
      "provenance": [],
      "authorship_tag": "ABX9TyNAQ9io+kOIx41syAv0Qh5p",
      "include_colab_link": true
    },
    "kernelspec": {
      "name": "python3",
      "display_name": "Python 3"
    }
  },
  "cells": [
    {
      "cell_type": "markdown",
      "metadata": {
        "id": "view-in-github",
        "colab_type": "text"
      },
      "source": [
        "<a href=\"https://colab.research.google.com/github/ParzivalWins/Data-Muse-Google-Colab-Workflow/blob/master/MuseData_S3_Bucket_Dataset.ipynb\" target=\"_parent\"><img src=\"https://colab.research.google.com/assets/colab-badge.svg\" alt=\"Open In Colab\"/></a>"
      ]
    },
    {
      "cell_type": "code",
      "metadata": {
        "id": "Gpg_5gDAtXkr",
        "colab_type": "code",
        "colab": {}
      },
      "source": [
        "import pandas as pd"
      ],
      "execution_count": null,
      "outputs": []
    },
    {
      "cell_type": "code",
      "metadata": {
        "id": "qMmeAONMthCl",
        "colab_type": "code",
        "colab": {}
      },
      "source": [
        "import s3fs"
      ],
      "execution_count": null,
      "outputs": []
    },
    {
      "cell_type": "code",
      "metadata": {
        "id": "IQ1oztxjtkoK",
        "colab_type": "code",
        "colab": {}
      },
      "source": [
        "df = pd.read_csv('s3://rickflairdrip1/mindMonitor_2020-02-21--13-57-57.csv')"
      ],
      "execution_count": null,
      "outputs": []
    },
    {
      "cell_type": "code",
      "metadata": {
        "id": "eSLWitK6_vgd",
        "colab_type": "code",
        "colab": {
          "base_uri": "https://localhost:8080/",
          "height": 663
        },
        "outputId": "c70ad13e-5090-4508-fb1f-0181864f4ef4"
      },
      "source": [
        "print (df)"
      ],
      "execution_count": null,
      "outputs": [
        {
          "output_type": "stream",
          "text": [
            "                  TimeStamp  Delta_TP9  Delta_AF7  ...  HSI_TP10  Battery  Elements\n",
            "0   2020-02-21 13:57:58.342   0.305671  -0.308990  ...         1     50.0       NaN\n",
            "1   2020-02-21 13:57:59.341   0.305671  -0.149185  ...         1     50.0       NaN\n",
            "2   2020-02-21 13:58:00.341   0.305671  -0.142778  ...         1     50.0       NaN\n",
            "3   2020-02-21 13:58:01.342   0.305671   1.366180  ...         1     50.0       NaN\n",
            "4   2020-02-21 13:58:02.353   1.043466   1.391055  ...         1     50.0       NaN\n",
            "5   2020-02-21 13:58:03.345   0.411228   0.599558  ...         1     50.0       NaN\n",
            "6   2020-02-21 13:58:04.342   0.139267   0.292502  ...         1     50.0       NaN\n",
            "7   2020-02-21 13:58:05.346   0.153766   0.364573  ...         1     50.0       NaN\n",
            "8   2020-02-21 13:58:06.341   0.433682   0.354083  ...         1     50.0       NaN\n",
            "9   2020-02-21 13:58:07.341   0.384954   0.007638  ...         1     50.0       NaN\n",
            "10  2020-02-21 13:58:08.341   0.258031  -0.062808  ...         1     50.0       NaN\n",
            "11  2020-02-21 13:58:09.341   0.083279   0.121041  ...         1     55.0       NaN\n",
            "12  2020-02-21 13:58:10.341   0.083585  -0.065152  ...         1     55.0       NaN\n",
            "13  2020-02-21 13:58:11.343   0.320875  -0.147700  ...         1     55.0       NaN\n",
            "14  2020-02-21 13:58:12.341   0.192363   0.049763  ...         1     55.0       NaN\n",
            "15  2020-02-21 13:58:13.342  -0.039173  -0.007633  ...         1     55.0       NaN\n",
            "16  2020-02-21 13:58:14.341   0.334812  -0.101685  ...         1     55.0       NaN\n",
            "17  2020-02-21 13:58:15.344   0.385365  -0.128569  ...         1     55.0       NaN\n",
            "18  2020-02-21 13:58:16.341   0.379893  -0.221465  ...         1     55.0       NaN\n",
            "19  2020-02-21 13:58:17.341   0.682859   0.086679  ...         1     55.0       NaN\n",
            "20  2020-02-21 13:58:18.350   0.570452   0.012014  ...         1     55.0       NaN\n",
            "21  2020-02-21 13:58:19.341   0.186198  -0.045805  ...         1     50.0       NaN\n",
            "22  2020-02-21 13:58:20.341   0.159344  -0.211352  ...         1     50.0       NaN\n",
            "23  2020-02-21 13:58:21.341  -0.144365  -0.360974  ...         1     50.0       NaN\n",
            "24  2020-02-21 13:58:22.341   0.053332  -0.513097  ...         1     50.0       NaN\n",
            "25  2020-02-21 13:58:23.352   0.097771  -0.580152  ...         1     50.0       NaN\n",
            "26  2020-02-21 13:58:24.341   0.173309  -0.394790  ...         1     50.0       NaN\n",
            "27  2020-02-21 13:58:25.341   0.072160  -0.301002  ...         1     50.0       NaN\n",
            "28  2020-02-21 13:58:26.341   0.195350  -0.271481  ...         1     50.0       NaN\n",
            "29  2020-02-21 13:58:27.341   0.445093  -0.155819  ...         1     50.0       NaN\n",
            "30  2020-02-21 13:58:28.341   0.138809  -0.462526  ...         1     50.0       NaN\n",
            "31  2020-02-21 13:58:29.340   0.200072  -0.515392  ...         1     50.0       NaN\n",
            "32  2020-02-21 13:58:30.341   0.806659  -0.253887  ...         1     50.0       NaN\n",
            "33  2020-02-21 13:58:31.341   1.206348   0.472556  ...         1     50.0       NaN\n",
            "34  2020-02-21 13:58:32.343   1.299751   0.192542  ...         1     50.0       NaN\n",
            "\n",
            "[35 rows x 39 columns]\n"
          ],
          "name": "stdout"
        }
      ]
    },
    {
      "cell_type": "code",
      "metadata": {
        "id": "E3JANzxRADJu",
        "colab_type": "code",
        "colab": {}
      },
      "source": [
        ""
      ],
      "execution_count": null,
      "outputs": []
    }
  ]
}