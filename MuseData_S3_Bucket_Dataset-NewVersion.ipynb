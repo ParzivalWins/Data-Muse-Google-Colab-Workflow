{
  "nbformat": 4,
  "nbformat_minor": 0,
  "metadata": {
    "colab": {
      "name": "MuseData-S3-Bucket-Dataset.ipynb",
      "provenance": [],
      "authorship_tag": "ABX9TyPhf22iPup35uWIzdSqUYij",
      "include_colab_link": true
    },
    "kernelspec": {
      "name": "python3",
      "display_name": "Python 3"
    }
  },
  "cells": [
    {
      "cell_type": "markdown",
      "metadata": {
        "id": "view-in-github",
        "colab_type": "text"
      },
      "source": [
        "<a href=\"https://colab.research.google.com/github/ParzivalWins/Data-Muse-Google-Colab-Workflow/blob/master/MuseData_S3_Bucket_Dataset-NewVersion.ipynb\" target=\"_parent\"><img src=\"https://colab.research.google.com/assets/colab-badge.svg\" alt=\"Open In Colab\"/></a>"
      ]
    },
    {
      "cell_type": "code",
      "metadata": {
        "id": "Gpg_5gDAtXkr",
        "colab_type": "code",
        "colab": {}
      },
      "source": [
        "import pandas as pd"
      ],
      "execution_count": 2,
      "outputs": []
    },
    {
      "cell_type": "code",
      "metadata": {
        "id": "14gCHjzOyckt",
        "colab_type": "code",
        "colab": {}
      },
      "source": [
        "import plotly.express as px"
      ],
      "execution_count": 11,
      "outputs": []
    },
    {
      "cell_type": "code",
      "metadata": {
        "id": "qMmeAONMthCl",
        "colab_type": "code",
        "colab": {}
      },
      "source": [
        "import s3fs"
      ],
      "execution_count": 3,
      "outputs": []
    },
    {
      "cell_type": "code",
      "metadata": {
        "id": "IQ1oztxjtkoK",
        "colab_type": "code",
        "colab": {}
      },
      "source": [
        "df = pd.read_csv('s3://rickflairdrip1/mindMonitor_2020-02-21--13-57-57.csv')"
      ],
      "execution_count": 4,
      "outputs": []
    },
    {
      "cell_type": "code",
      "metadata": {
        "id": "eSLWitK6_vgd",
        "colab_type": "code",
        "colab": {
          "base_uri": "https://localhost:8080/",
          "height": 663
        },
        "outputId": "27fa91fe-7388-4214-fb19-9bbb709dcb2b"
      },
      "source": [
        "print (df)"
      ],
      "execution_count": 5,
      "outputs": [
        {
          "output_type": "stream",
          "text": [
            "                  TimeStamp  Delta_TP9  Delta_AF7  ...  HSI_TP10  Battery  Elements\n",
            "0   2020-02-21 13:57:58.342   0.305671  -0.308990  ...         1     50.0       NaN\n",
            "1   2020-02-21 13:57:59.341   0.305671  -0.149185  ...         1     50.0       NaN\n",
            "2   2020-02-21 13:58:00.341   0.305671  -0.142778  ...         1     50.0       NaN\n",
            "3   2020-02-21 13:58:01.342   0.305671   1.366180  ...         1     50.0       NaN\n",
            "4   2020-02-21 13:58:02.353   1.043466   1.391055  ...         1     50.0       NaN\n",
            "5   2020-02-21 13:58:03.345   0.411228   0.599558  ...         1     50.0       NaN\n",
            "6   2020-02-21 13:58:04.342   0.139267   0.292502  ...         1     50.0       NaN\n",
            "7   2020-02-21 13:58:05.346   0.153766   0.364573  ...         1     50.0       NaN\n",
            "8   2020-02-21 13:58:06.341   0.433682   0.354083  ...         1     50.0       NaN\n",
            "9   2020-02-21 13:58:07.341   0.384954   0.007638  ...         1     50.0       NaN\n",
            "10  2020-02-21 13:58:08.341   0.258031  -0.062808  ...         1     50.0       NaN\n",
            "11  2020-02-21 13:58:09.341   0.083279   0.121041  ...         1     55.0       NaN\n",
            "12  2020-02-21 13:58:10.341   0.083585  -0.065152  ...         1     55.0       NaN\n",
            "13  2020-02-21 13:58:11.343   0.320875  -0.147700  ...         1     55.0       NaN\n",
            "14  2020-02-21 13:58:12.341   0.192363   0.049763  ...         1     55.0       NaN\n",
            "15  2020-02-21 13:58:13.342  -0.039173  -0.007633  ...         1     55.0       NaN\n",
            "16  2020-02-21 13:58:14.341   0.334812  -0.101685  ...         1     55.0       NaN\n",
            "17  2020-02-21 13:58:15.344   0.385365  -0.128569  ...         1     55.0       NaN\n",
            "18  2020-02-21 13:58:16.341   0.379893  -0.221465  ...         1     55.0       NaN\n",
            "19  2020-02-21 13:58:17.341   0.682859   0.086679  ...         1     55.0       NaN\n",
            "20  2020-02-21 13:58:18.350   0.570452   0.012014  ...         1     55.0       NaN\n",
            "21  2020-02-21 13:58:19.341   0.186198  -0.045805  ...         1     50.0       NaN\n",
            "22  2020-02-21 13:58:20.341   0.159344  -0.211352  ...         1     50.0       NaN\n",
            "23  2020-02-21 13:58:21.341  -0.144365  -0.360974  ...         1     50.0       NaN\n",
            "24  2020-02-21 13:58:22.341   0.053332  -0.513097  ...         1     50.0       NaN\n",
            "25  2020-02-21 13:58:23.352   0.097771  -0.580152  ...         1     50.0       NaN\n",
            "26  2020-02-21 13:58:24.341   0.173309  -0.394790  ...         1     50.0       NaN\n",
            "27  2020-02-21 13:58:25.341   0.072160  -0.301002  ...         1     50.0       NaN\n",
            "28  2020-02-21 13:58:26.341   0.195350  -0.271481  ...         1     50.0       NaN\n",
            "29  2020-02-21 13:58:27.341   0.445093  -0.155819  ...         1     50.0       NaN\n",
            "30  2020-02-21 13:58:28.341   0.138809  -0.462526  ...         1     50.0       NaN\n",
            "31  2020-02-21 13:58:29.340   0.200072  -0.515392  ...         1     50.0       NaN\n",
            "32  2020-02-21 13:58:30.341   0.806659  -0.253887  ...         1     50.0       NaN\n",
            "33  2020-02-21 13:58:31.341   1.206348   0.472556  ...         1     50.0       NaN\n",
            "34  2020-02-21 13:58:32.343   1.299751   0.192542  ...         1     50.0       NaN\n",
            "\n",
            "[35 rows x 39 columns]\n"
          ],
          "name": "stdout"
        }
      ]
    },
    {
      "cell_type": "code",
      "metadata": {
        "id": "E3JANzxRADJu",
        "colab_type": "code",
        "colab": {
          "base_uri": "https://localhost:8080/",
          "height": 663
        },
        "outputId": "bb3a8e67-1102-49b5-9cb8-5bce824e4171"
      },
      "source": [
        "df.head"
      ],
      "execution_count": 8,
      "outputs": [
        {
          "output_type": "execute_result",
          "data": {
            "text/plain": [
              "<bound method NDFrame.head of                   TimeStamp  Delta_TP9  Delta_AF7  ...  HSI_TP10  Battery  Elements\n",
              "0   2020-02-21 13:57:58.342   0.305671  -0.308990  ...         1     50.0       NaN\n",
              "1   2020-02-21 13:57:59.341   0.305671  -0.149185  ...         1     50.0       NaN\n",
              "2   2020-02-21 13:58:00.341   0.305671  -0.142778  ...         1     50.0       NaN\n",
              "3   2020-02-21 13:58:01.342   0.305671   1.366180  ...         1     50.0       NaN\n",
              "4   2020-02-21 13:58:02.353   1.043466   1.391055  ...         1     50.0       NaN\n",
              "5   2020-02-21 13:58:03.345   0.411228   0.599558  ...         1     50.0       NaN\n",
              "6   2020-02-21 13:58:04.342   0.139267   0.292502  ...         1     50.0       NaN\n",
              "7   2020-02-21 13:58:05.346   0.153766   0.364573  ...         1     50.0       NaN\n",
              "8   2020-02-21 13:58:06.341   0.433682   0.354083  ...         1     50.0       NaN\n",
              "9   2020-02-21 13:58:07.341   0.384954   0.007638  ...         1     50.0       NaN\n",
              "10  2020-02-21 13:58:08.341   0.258031  -0.062808  ...         1     50.0       NaN\n",
              "11  2020-02-21 13:58:09.341   0.083279   0.121041  ...         1     55.0       NaN\n",
              "12  2020-02-21 13:58:10.341   0.083585  -0.065152  ...         1     55.0       NaN\n",
              "13  2020-02-21 13:58:11.343   0.320875  -0.147700  ...         1     55.0       NaN\n",
              "14  2020-02-21 13:58:12.341   0.192363   0.049763  ...         1     55.0       NaN\n",
              "15  2020-02-21 13:58:13.342  -0.039173  -0.007633  ...         1     55.0       NaN\n",
              "16  2020-02-21 13:58:14.341   0.334812  -0.101685  ...         1     55.0       NaN\n",
              "17  2020-02-21 13:58:15.344   0.385365  -0.128569  ...         1     55.0       NaN\n",
              "18  2020-02-21 13:58:16.341   0.379893  -0.221465  ...         1     55.0       NaN\n",
              "19  2020-02-21 13:58:17.341   0.682859   0.086679  ...         1     55.0       NaN\n",
              "20  2020-02-21 13:58:18.350   0.570452   0.012014  ...         1     55.0       NaN\n",
              "21  2020-02-21 13:58:19.341   0.186198  -0.045805  ...         1     50.0       NaN\n",
              "22  2020-02-21 13:58:20.341   0.159344  -0.211352  ...         1     50.0       NaN\n",
              "23  2020-02-21 13:58:21.341  -0.144365  -0.360974  ...         1     50.0       NaN\n",
              "24  2020-02-21 13:58:22.341   0.053332  -0.513097  ...         1     50.0       NaN\n",
              "25  2020-02-21 13:58:23.352   0.097771  -0.580152  ...         1     50.0       NaN\n",
              "26  2020-02-21 13:58:24.341   0.173309  -0.394790  ...         1     50.0       NaN\n",
              "27  2020-02-21 13:58:25.341   0.072160  -0.301002  ...         1     50.0       NaN\n",
              "28  2020-02-21 13:58:26.341   0.195350  -0.271481  ...         1     50.0       NaN\n",
              "29  2020-02-21 13:58:27.341   0.445093  -0.155819  ...         1     50.0       NaN\n",
              "30  2020-02-21 13:58:28.341   0.138809  -0.462526  ...         1     50.0       NaN\n",
              "31  2020-02-21 13:58:29.340   0.200072  -0.515392  ...         1     50.0       NaN\n",
              "32  2020-02-21 13:58:30.341   0.806659  -0.253887  ...         1     50.0       NaN\n",
              "33  2020-02-21 13:58:31.341   1.206348   0.472556  ...         1     50.0       NaN\n",
              "34  2020-02-21 13:58:32.343   1.299751   0.192542  ...         1     50.0       NaN\n",
              "\n",
              "[35 rows x 39 columns]>"
            ]
          },
          "metadata": {
            "tags": []
          },
          "execution_count": 8
        }
      ]
    },
    {
      "cell_type": "code",
      "metadata": {
        "id": "iqA2ljoFxOqK",
        "colab_type": "code",
        "colab": {}
      },
      "source": [
        "fig = px.line(df, x = 'Delta_TP9', y = 'Delta_AF7', title='Brainwaves')"
      ],
      "execution_count": 14,
      "outputs": []
    },
    {
      "cell_type": "code",
      "metadata": {
        "id": "dRwTjFT5x98X",
        "colab_type": "code",
        "colab": {
          "base_uri": "https://localhost:8080/",
          "height": 542
        },
        "outputId": "195b0013-8a1a-4a87-dda6-10f1b67b52b5"
      },
      "source": [
        "fig.show()"
      ],
      "execution_count": 15,
      "outputs": [
        {
          "output_type": "display_data",
          "data": {
            "text/html": [
              "<html>\n",
              "<head><meta charset=\"utf-8\" /></head>\n",
              "<body>\n",
              "    <div>\n",
              "            <script src=\"https://cdnjs.cloudflare.com/ajax/libs/mathjax/2.7.5/MathJax.js?config=TeX-AMS-MML_SVG\"></script><script type=\"text/javascript\">if (window.MathJax) {MathJax.Hub.Config({SVG: {font: \"STIX-Web\"}});}</script>\n",
              "                <script type=\"text/javascript\">window.PlotlyConfig = {MathJaxConfig: 'local'};</script>\n",
              "        <script src=\"https://cdn.plot.ly/plotly-latest.min.js\"></script>    \n",
              "            <div id=\"feb8ebe8-660c-4ce8-bfc0-dded1a85d066\" class=\"plotly-graph-div\" style=\"height:525px; width:100%;\"></div>\n",
              "            <script type=\"text/javascript\">\n",
              "                \n",
              "                    window.PLOTLYENV=window.PLOTLYENV || {};\n",
              "                    \n",
              "                if (document.getElementById(\"feb8ebe8-660c-4ce8-bfc0-dded1a85d066\")) {\n",
              "                    Plotly.newPlot(\n",
              "                        'feb8ebe8-660c-4ce8-bfc0-dded1a85d066',\n",
              "                        [{\"hoverlabel\": {\"namelength\": 0}, \"hovertemplate\": \"Delta_TP9=%{x}<br>Delta_AF7=%{y}\", \"legendgroup\": \"\", \"line\": {\"color\": \"#636efa\", \"dash\": \"solid\"}, \"mode\": \"lines\", \"name\": \"\", \"showlegend\": false, \"type\": \"scatter\", \"x\": [0.3056713052627541, 0.3056713052627541, 0.3056713052627541, 0.3056713052627541, 1.043465611875606, 0.4112276107790791, 0.1392674062373505, 0.1537661675352524, 0.4336815586033002, 0.3849544414569629, 0.2580309055713458, 0.08327859124601374, 0.08358503631960562, 0.3208750317430854, 0.1923633532652251, -0.03917272526629312, 0.3348124282174753, 0.3853649275471213, 0.3798931505680683, 0.6828591513511176, 0.5704524406895505, 0.1861979599048151, 0.1593442263714291, -0.1443649838666049, 0.053331665239704035, 0.09777119054031327, 0.1733087254356845, 0.07216033577455984, 0.1953500249687755, 0.4450933221674883, 0.1388091279107141, 0.2000715164477044, 0.8066592421134997, 1.2063475735331852, 1.299750981047383], \"xaxis\": \"x\", \"y\": [-0.3089899808929907, -0.1491854563504113, -0.1427775888371789, 1.3661799819007772, 1.391055402838608, 0.5995584835686569, 0.2925017027411415, 0.3645732464843349, 0.3540829091795088, 0.007637535397326375, -0.06280824605077874, 0.1210405268155847, -0.0651522385286086, -0.1477001903862288, 0.04976346482558035, -0.007632864041067575, -0.1016846027659104, -0.1285686891079491, -0.2214649729949491, 0.08667850246476701, 0.01201368253040915, -0.04580545865417512, -0.2113523169322694, -0.3609742466439647, -0.5130972408467501, -0.5801517734287378, -0.3947895579573668, -0.3010015316067494, -0.2714812399431462, -0.1558194316181867, -0.4625262045072395, -0.5153920175896507, -0.2538872244652517, 0.47255606980855897, 0.1925420784622494], \"yaxis\": \"y\"}],\n",
              "                        {\"legend\": {\"tracegroupgap\": 0}, \"template\": {\"data\": {\"bar\": [{\"error_x\": {\"color\": \"#2a3f5f\"}, \"error_y\": {\"color\": \"#2a3f5f\"}, \"marker\": {\"line\": {\"color\": \"#E5ECF6\", \"width\": 0.5}}, \"type\": \"bar\"}], \"barpolar\": [{\"marker\": {\"line\": {\"color\": \"#E5ECF6\", \"width\": 0.5}}, \"type\": \"barpolar\"}], \"carpet\": [{\"aaxis\": {\"endlinecolor\": \"#2a3f5f\", \"gridcolor\": \"white\", \"linecolor\": \"white\", \"minorgridcolor\": \"white\", \"startlinecolor\": \"#2a3f5f\"}, \"baxis\": {\"endlinecolor\": \"#2a3f5f\", \"gridcolor\": \"white\", \"linecolor\": \"white\", \"minorgridcolor\": \"white\", \"startlinecolor\": \"#2a3f5f\"}, \"type\": \"carpet\"}], \"choropleth\": [{\"colorbar\": {\"outlinewidth\": 0, \"ticks\": \"\"}, \"type\": \"choropleth\"}], \"contour\": [{\"colorbar\": {\"outlinewidth\": 0, \"ticks\": \"\"}, \"colorscale\": [[0.0, \"#0d0887\"], [0.1111111111111111, \"#46039f\"], [0.2222222222222222, \"#7201a8\"], [0.3333333333333333, \"#9c179e\"], [0.4444444444444444, \"#bd3786\"], [0.5555555555555556, \"#d8576b\"], [0.6666666666666666, \"#ed7953\"], [0.7777777777777778, \"#fb9f3a\"], [0.8888888888888888, \"#fdca26\"], [1.0, \"#f0f921\"]], \"type\": \"contour\"}], \"contourcarpet\": [{\"colorbar\": {\"outlinewidth\": 0, \"ticks\": \"\"}, \"type\": \"contourcarpet\"}], \"heatmap\": [{\"colorbar\": {\"outlinewidth\": 0, \"ticks\": \"\"}, \"colorscale\": [[0.0, \"#0d0887\"], [0.1111111111111111, \"#46039f\"], [0.2222222222222222, \"#7201a8\"], [0.3333333333333333, \"#9c179e\"], [0.4444444444444444, \"#bd3786\"], [0.5555555555555556, \"#d8576b\"], [0.6666666666666666, \"#ed7953\"], [0.7777777777777778, \"#fb9f3a\"], [0.8888888888888888, \"#fdca26\"], [1.0, \"#f0f921\"]], \"type\": \"heatmap\"}], \"heatmapgl\": [{\"colorbar\": {\"outlinewidth\": 0, \"ticks\": \"\"}, \"colorscale\": [[0.0, \"#0d0887\"], [0.1111111111111111, \"#46039f\"], [0.2222222222222222, \"#7201a8\"], [0.3333333333333333, \"#9c179e\"], [0.4444444444444444, \"#bd3786\"], [0.5555555555555556, \"#d8576b\"], [0.6666666666666666, \"#ed7953\"], [0.7777777777777778, \"#fb9f3a\"], [0.8888888888888888, \"#fdca26\"], [1.0, \"#f0f921\"]], \"type\": \"heatmapgl\"}], \"histogram\": [{\"marker\": {\"colorbar\": {\"outlinewidth\": 0, \"ticks\": \"\"}}, \"type\": \"histogram\"}], \"histogram2d\": [{\"colorbar\": {\"outlinewidth\": 0, \"ticks\": \"\"}, \"colorscale\": [[0.0, \"#0d0887\"], [0.1111111111111111, \"#46039f\"], [0.2222222222222222, \"#7201a8\"], [0.3333333333333333, \"#9c179e\"], [0.4444444444444444, \"#bd3786\"], [0.5555555555555556, \"#d8576b\"], [0.6666666666666666, \"#ed7953\"], [0.7777777777777778, \"#fb9f3a\"], [0.8888888888888888, \"#fdca26\"], [1.0, \"#f0f921\"]], \"type\": \"histogram2d\"}], \"histogram2dcontour\": [{\"colorbar\": {\"outlinewidth\": 0, \"ticks\": \"\"}, \"colorscale\": [[0.0, \"#0d0887\"], [0.1111111111111111, \"#46039f\"], [0.2222222222222222, \"#7201a8\"], [0.3333333333333333, \"#9c179e\"], [0.4444444444444444, \"#bd3786\"], [0.5555555555555556, \"#d8576b\"], [0.6666666666666666, \"#ed7953\"], [0.7777777777777778, \"#fb9f3a\"], [0.8888888888888888, \"#fdca26\"], [1.0, \"#f0f921\"]], \"type\": \"histogram2dcontour\"}], \"mesh3d\": [{\"colorbar\": {\"outlinewidth\": 0, \"ticks\": \"\"}, \"type\": \"mesh3d\"}], \"parcoords\": [{\"line\": {\"colorbar\": {\"outlinewidth\": 0, \"ticks\": \"\"}}, \"type\": \"parcoords\"}], \"pie\": [{\"automargin\": true, \"type\": \"pie\"}], \"scatter\": [{\"marker\": {\"colorbar\": {\"outlinewidth\": 0, \"ticks\": \"\"}}, \"type\": \"scatter\"}], \"scatter3d\": [{\"line\": {\"colorbar\": {\"outlinewidth\": 0, \"ticks\": \"\"}}, \"marker\": {\"colorbar\": {\"outlinewidth\": 0, \"ticks\": \"\"}}, \"type\": \"scatter3d\"}], \"scattercarpet\": [{\"marker\": {\"colorbar\": {\"outlinewidth\": 0, \"ticks\": \"\"}}, \"type\": \"scattercarpet\"}], \"scattergeo\": [{\"marker\": {\"colorbar\": {\"outlinewidth\": 0, \"ticks\": \"\"}}, \"type\": \"scattergeo\"}], \"scattergl\": [{\"marker\": {\"colorbar\": {\"outlinewidth\": 0, \"ticks\": \"\"}}, \"type\": \"scattergl\"}], \"scattermapbox\": [{\"marker\": {\"colorbar\": {\"outlinewidth\": 0, \"ticks\": \"\"}}, \"type\": \"scattermapbox\"}], \"scatterpolar\": [{\"marker\": {\"colorbar\": {\"outlinewidth\": 0, \"ticks\": \"\"}}, \"type\": \"scatterpolar\"}], \"scatterpolargl\": [{\"marker\": {\"colorbar\": {\"outlinewidth\": 0, \"ticks\": \"\"}}, \"type\": \"scatterpolargl\"}], \"scatterternary\": [{\"marker\": {\"colorbar\": {\"outlinewidth\": 0, \"ticks\": \"\"}}, \"type\": \"scatterternary\"}], \"surface\": [{\"colorbar\": {\"outlinewidth\": 0, \"ticks\": \"\"}, \"colorscale\": [[0.0, \"#0d0887\"], [0.1111111111111111, \"#46039f\"], [0.2222222222222222, \"#7201a8\"], [0.3333333333333333, \"#9c179e\"], [0.4444444444444444, \"#bd3786\"], [0.5555555555555556, \"#d8576b\"], [0.6666666666666666, \"#ed7953\"], [0.7777777777777778, \"#fb9f3a\"], [0.8888888888888888, \"#fdca26\"], [1.0, \"#f0f921\"]], \"type\": \"surface\"}], \"table\": [{\"cells\": {\"fill\": {\"color\": \"#EBF0F8\"}, \"line\": {\"color\": \"white\"}}, \"header\": {\"fill\": {\"color\": \"#C8D4E3\"}, \"line\": {\"color\": \"white\"}}, \"type\": \"table\"}]}, \"layout\": {\"annotationdefaults\": {\"arrowcolor\": \"#2a3f5f\", \"arrowhead\": 0, \"arrowwidth\": 1}, \"coloraxis\": {\"colorbar\": {\"outlinewidth\": 0, \"ticks\": \"\"}}, \"colorscale\": {\"diverging\": [[0, \"#8e0152\"], [0.1, \"#c51b7d\"], [0.2, \"#de77ae\"], [0.3, \"#f1b6da\"], [0.4, \"#fde0ef\"], [0.5, \"#f7f7f7\"], [0.6, \"#e6f5d0\"], [0.7, \"#b8e186\"], [0.8, \"#7fbc41\"], [0.9, \"#4d9221\"], [1, \"#276419\"]], \"sequential\": [[0.0, \"#0d0887\"], [0.1111111111111111, \"#46039f\"], [0.2222222222222222, \"#7201a8\"], [0.3333333333333333, \"#9c179e\"], [0.4444444444444444, \"#bd3786\"], [0.5555555555555556, \"#d8576b\"], [0.6666666666666666, \"#ed7953\"], [0.7777777777777778, \"#fb9f3a\"], [0.8888888888888888, \"#fdca26\"], [1.0, \"#f0f921\"]], \"sequentialminus\": [[0.0, \"#0d0887\"], [0.1111111111111111, \"#46039f\"], [0.2222222222222222, \"#7201a8\"], [0.3333333333333333, \"#9c179e\"], [0.4444444444444444, \"#bd3786\"], [0.5555555555555556, \"#d8576b\"], [0.6666666666666666, \"#ed7953\"], [0.7777777777777778, \"#fb9f3a\"], [0.8888888888888888, \"#fdca26\"], [1.0, \"#f0f921\"]]}, \"colorway\": [\"#636efa\", \"#EF553B\", \"#00cc96\", \"#ab63fa\", \"#FFA15A\", \"#19d3f3\", \"#FF6692\", \"#B6E880\", \"#FF97FF\", \"#FECB52\"], \"font\": {\"color\": \"#2a3f5f\"}, \"geo\": {\"bgcolor\": \"white\", \"lakecolor\": \"white\", \"landcolor\": \"#E5ECF6\", \"showlakes\": true, \"showland\": true, \"subunitcolor\": \"white\"}, \"hoverlabel\": {\"align\": \"left\"}, \"hovermode\": \"closest\", \"mapbox\": {\"style\": \"light\"}, \"paper_bgcolor\": \"white\", \"plot_bgcolor\": \"#E5ECF6\", \"polar\": {\"angularaxis\": {\"gridcolor\": \"white\", \"linecolor\": \"white\", \"ticks\": \"\"}, \"bgcolor\": \"#E5ECF6\", \"radialaxis\": {\"gridcolor\": \"white\", \"linecolor\": \"white\", \"ticks\": \"\"}}, \"scene\": {\"xaxis\": {\"backgroundcolor\": \"#E5ECF6\", \"gridcolor\": \"white\", \"gridwidth\": 2, \"linecolor\": \"white\", \"showbackground\": true, \"ticks\": \"\", \"zerolinecolor\": \"white\"}, \"yaxis\": {\"backgroundcolor\": \"#E5ECF6\", \"gridcolor\": \"white\", \"gridwidth\": 2, \"linecolor\": \"white\", \"showbackground\": true, \"ticks\": \"\", \"zerolinecolor\": \"white\"}, \"zaxis\": {\"backgroundcolor\": \"#E5ECF6\", \"gridcolor\": \"white\", \"gridwidth\": 2, \"linecolor\": \"white\", \"showbackground\": true, \"ticks\": \"\", \"zerolinecolor\": \"white\"}}, \"shapedefaults\": {\"line\": {\"color\": \"#2a3f5f\"}}, \"ternary\": {\"aaxis\": {\"gridcolor\": \"white\", \"linecolor\": \"white\", \"ticks\": \"\"}, \"baxis\": {\"gridcolor\": \"white\", \"linecolor\": \"white\", \"ticks\": \"\"}, \"bgcolor\": \"#E5ECF6\", \"caxis\": {\"gridcolor\": \"white\", \"linecolor\": \"white\", \"ticks\": \"\"}}, \"title\": {\"x\": 0.05}, \"xaxis\": {\"automargin\": true, \"gridcolor\": \"white\", \"linecolor\": \"white\", \"ticks\": \"\", \"title\": {\"standoff\": 15}, \"zerolinecolor\": \"white\", \"zerolinewidth\": 2}, \"yaxis\": {\"automargin\": true, \"gridcolor\": \"white\", \"linecolor\": \"white\", \"ticks\": \"\", \"title\": {\"standoff\": 15}, \"zerolinecolor\": \"white\", \"zerolinewidth\": 2}}}, \"title\": {\"text\": \"Brainwaves\"}, \"xaxis\": {\"anchor\": \"y\", \"domain\": [0.0, 1.0], \"title\": {\"text\": \"Delta_TP9\"}}, \"yaxis\": {\"anchor\": \"x\", \"domain\": [0.0, 1.0], \"title\": {\"text\": \"Delta_AF7\"}}},\n",
              "                        {\"responsive\": true}\n",
              "                    ).then(function(){\n",
              "                            \n",
              "var gd = document.getElementById('feb8ebe8-660c-4ce8-bfc0-dded1a85d066');\n",
              "var x = new MutationObserver(function (mutations, observer) {{\n",
              "        var display = window.getComputedStyle(gd).display;\n",
              "        if (!display || display === 'none') {{\n",
              "            console.log([gd, 'removed!']);\n",
              "            Plotly.purge(gd);\n",
              "            observer.disconnect();\n",
              "        }}\n",
              "}});\n",
              "\n",
              "// Listen for the removal of the full notebook cells\n",
              "var notebookContainer = gd.closest('#notebook-container');\n",
              "if (notebookContainer) {{\n",
              "    x.observe(notebookContainer, {childList: true});\n",
              "}}\n",
              "\n",
              "// Listen for the clearing of the current output cell\n",
              "var outputEl = gd.closest('.output');\n",
              "if (outputEl) {{\n",
              "    x.observe(outputEl, {childList: true});\n",
              "}}\n",
              "\n",
              "                        })\n",
              "                };\n",
              "                \n",
              "            </script>\n",
              "        </div>\n",
              "</body>\n",
              "</html>"
            ]
          },
          "metadata": {
            "tags": []
          }
        }
      ]
    },
    {
      "cell_type": "code",
      "metadata": {
        "id": "9EbkWFrcy67X",
        "colab_type": "code",
        "colab": {}
      },
      "source": [
        ""
      ],
      "execution_count": null,
      "outputs": []
    }
  ]
}